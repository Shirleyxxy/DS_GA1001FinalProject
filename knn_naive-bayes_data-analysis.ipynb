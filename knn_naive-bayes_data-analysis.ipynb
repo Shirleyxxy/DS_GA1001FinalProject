{
 "cells": [
  {
   "cell_type": "markdown",
   "metadata": {},
   "source": [
    "# KNN, Gaussian Naive Bayes and Data Analysis (with Tableau)"
   ]
  },
  {
   "cell_type": "markdown",
   "metadata": {},
   "source": [
    "## Online News Popularity dataset"
   ]
  },
  {
   "cell_type": "code",
   "execution_count": 1,
   "metadata": {},
   "outputs": [],
   "source": [
    "import pandas as pd\n",
    "import numpy as np\n",
    "from sklearn.model_selection import train_test_split\n",
    "from sklearn.neighbors import KNeighborsClassifier\n",
    "from sklearn.model_selection import GridSearchCV, cross_val_score\n",
    "from sklearn.naive_bayes import GaussianNB, MultinomialNB\n",
    "import matplotlib.pyplot as plt\n"
   ]
  },
  {
   "cell_type": "code",
   "execution_count": 2,
   "metadata": {},
   "outputs": [],
   "source": [
    "data = pd.read_csv('./OnlineNewsPopularity/OnlineNewsPopularity.csv', header = 0)\n"
   ]
  },
  {
   "cell_type": "markdown",
   "metadata": {},
   "source": [
    "## Data preprocessing"
   ]
  },
  {
   "cell_type": "code",
   "execution_count": 3,
   "metadata": {},
   "outputs": [],
   "source": [
    "for i in range(len(data.columns)):\n",
    "    data.columns.values[i] = data.columns.values[i].replace(\" \", \"\")\n",
    "    \n",
    "X = data.iloc[:, 2:-1]\n",
    "y = data.iloc[:, -1]\n",
    "\n",
    "X_train, X_test, y_train_old, y_test_old = train_test_split(X, y, test_size=0.2, random_state=21)\n",
    "X_train.reset_index(drop = True, inplace = True)\n",
    "X_test.reset_index(drop = True, inplace = True)\n",
    "y_train_old.reset_index(drop = True, inplace = True)\n",
    "y_test_old.reset_index(drop = True, inplace = True)"
   ]
  },
  {
   "cell_type": "markdown",
   "metadata": {},
   "source": [
    "### Binary Classification\n",
    "\n",
    "Our target variable `shares` is a numeric quantity, since we are working with a classification problem, we encode our target variable as a boolean - popular or non-popular. For that we find the median of the shares and use that to classify our training data. \n"
   ]
  },
  {
   "cell_type": "code",
   "execution_count": 6,
   "metadata": {},
   "outputs": [
    {
     "data": {
      "text/plain": [
       "1400.0"
      ]
     },
     "execution_count": 6,
     "metadata": {},
     "output_type": "execute_result"
    }
   ],
   "source": [
    "shares_median = np.median(y_train_old)\n",
    "shares_median"
   ]
  },
  {
   "cell_type": "code",
   "execution_count": 7,
   "metadata": {},
   "outputs": [],
   "source": [
    "y_train = y_train_old.copy()\n",
    "y_test = y_test_old.copy()\n",
    "\n",
    "for i in range(y_train_old.shape[0]):\n",
    "    if y_train_old[i] < shares_median:\n",
    "        y_train[i] = 0\n",
    "    else:\n",
    "        y_train[i] = 1\n",
    "      \n",
    "for i in range(y_test_old.shape[0]):\n",
    "    if y_test_old[i] < shares_median:\n",
    "        y_test[i] = 0\n",
    "    else:\n",
    "        y_test[i] = 1"
   ]
  },
  {
   "cell_type": "markdown",
   "metadata": {},
   "source": [
    "## K-Nearest Neighbor"
   ]
  },
  {
   "cell_type": "markdown",
   "metadata": {},
   "source": [
    "Using sklearn's KNeighborsClassifier we are going to find the accuracy for different values of k and then select k with max accuracy. "
   ]
  },
  {
   "cell_type": "code",
   "execution_count": 8,
   "metadata": {},
   "outputs": [
    {
     "name": "stdout",
     "output_type": "stream",
     "text": [
      "running for k =  11\n",
      "--> mean score :  0.5798203732358547\n",
      "running for k =  15\n",
      "--> mean score :  0.582090960282796\n",
      "running for k =  21\n",
      "--> mean score :  0.5820282466059256\n",
      "running for k =  25\n",
      "--> mean score :  0.5837937738084301\n",
      "running for k =  31\n",
      "--> mean score :  0.5890909121638684\n",
      "running for k =  35\n",
      "--> mean score :  0.5897530644002253\n",
      "running for k =  51\n",
      "--> mean score :  0.5929693076799797\n",
      "running for k =  63\n",
      "--> mean score :  0.5939148545515932\n",
      "running for k =  65\n",
      "--> mean score :  0.5935048494732568\n",
      "running for k =  69\n",
      "--> mean score :  0.5938832491649775\n",
      "running for k =  71\n",
      "--> mean score :  0.5931896207870587\n",
      "running for k =  75\n",
      "--> mean score :  0.5920543024087699\n",
      "running for k =  101\n",
      "--> mean score :  0.5874511205148487\n",
      "running for k =  151\n",
      "--> mean score :  0.5886811158660035\n",
      "running for k =  201\n",
      "--> mean score :  0.5860953796682816\n",
      "running for k =  251\n",
      "--> mean score :  0.5822806323701991\n"
     ]
    }
   ],
   "source": [
    "neighbors = [11, 15, 21, 25, 31, 35, 51, 63, 65, 69, 71, 75, 101, 151, 201, 251]\n",
    "cv_scores = []\n",
    "\n",
    "for k in neighbors:\n",
    "    print('running for k = ', k)\n",
    "    knn = KNeighborsClassifier(n_neighbors=k)\n",
    "    scores = cross_val_score(knn, X_train, y_train, cv=10, scoring='accuracy')\n",
    "    print('--> mean score : ', scores.mean())\n",
    "    cv_scores.append(scores.mean())"
   ]
  },
  {
   "cell_type": "code",
   "execution_count": 9,
   "metadata": {},
   "outputs": [
    {
     "name": "stdout",
     "output_type": "stream",
     "text": [
      "The optimal number of neighbors is 63\n"
     ]
    },
    {
     "data": {
      "image/png": "[encoded data removed]",
      "text/plain": [
       "<Figure size 432x288 with 1 Axes>"
      ]
     },
     "metadata": {},
     "output_type": "display_data"
    }
   ],
   "source": [
    "MSE = [1 - x for x in cv_scores]\n",
    "\n",
    "# determining best k\n",
    "optimal_k = neighbors[MSE.index(min(MSE))]\n",
    "print(\"The optimal number of neighbors is %d\" % optimal_k)\n",
    "\n",
    "# plot misclassification error vs k\n",
    "plt.plot(neighbors, MSE)\n",
    "plt.xlabel('Number of Neighbors K')\n",
    "plt.ylabel('Misclassification Error')\n",
    "plt.show()"
   ]
  },
  {
   "cell_type": "markdown",
   "metadata": {},
   "source": [
    "## Gaussian Naive Bayes"
   ]
  },
  {
   "cell_type": "code",
   "execution_count": 39,
   "metadata": {},
   "outputs": [
    {
     "data": {
      "text/plain": [
       "0.5056123092445454"
      ]
     },
     "execution_count": 39,
     "metadata": {},
     "output_type": "execute_result"
    }
   ],
   "source": [
    "clf_gnb = GaussianNB().fit(X_train, y_train)\n",
    "clf_gnb.predict(X_test)\n",
    "clf_gnb.score(X_test, y_test)"
   ]
  }
 ],
 "metadata": {
  "kernelspec": {
   "display_name": "Python 3",
   "language": "python",
   "name": "python3"
  },
  "language_info": {
   "codemirror_mode": {
    "name": "ipython",
    "version": 3
   },
   "file_extension": ".py",
   "mimetype": "text/x-python",
   "name": "python",
   "nbconvert_exporter": "python",
   "pygments_lexer": "ipython3",
   "version": "3.6.5"
  }
 },
 "nbformat": 4,
 "nbformat_minor": 2
}
